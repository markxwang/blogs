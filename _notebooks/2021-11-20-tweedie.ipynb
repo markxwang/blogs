{
 "cells": [
  {
   "cell_type": "markdown",
   "metadata": {},
   "source": [
    "# Tweedie distribution\n",
    "> A short introduction to the Tweedie distribution\n",
    "\n",
    "- toc: true \n",
    "- badges: true\n",
    "- comments: false\n",
    "- categories: [insurance, distribution, glm, notebook]"
   ]
  },
  {
   "cell_type": "markdown",
   "metadata": {},
   "source": [
    "# Introduction"
   ]
  },
  {
   "cell_type": "markdown",
   "metadata": {},
   "source": [
    "The [Tweedie distribution](https://en.wikipedia.org/wiki/Tweedie_distribution) is a family of probability distributions that include\n",
    "- [Normal](https://en.wikipedia.org/wiki/Normal_distribution)\n",
    "- [Gamma](https://en.wikipedia.org/wiki/Gamma_distribution)\n",
    "- [Inverse Gaussian](https://en.wikipedia.org/wiki/Inverse_Gaussian_distribution)\n",
    "- [Poisson](https://en.wikipedia.org/wiki/Poisson_distribution)\n",
    "- [Compound Poisson-gamma](https://en.wikipedia.org/wiki/Compound_Poisson_distribution#Compound_Poisson_Gamma_distribution)\n",
    "\n",
    "The Tweedie distribution is wildly popular in insurance industry as a tool of modelling\n",
    "- claim frequency (count data), \n",
    "- claim severity (non-negative continuous data), and \n",
    "- pure premium (non-negative continous data with a zero mass).\n",
    "\n",
    "In this post, we give a brief introduction to the Tweedie distribution and its properties."
   ]
  },
  {
   "cell_type": "markdown",
   "metadata": {},
   "source": [
    "# Exponential Dispersion Models"
   ]
  },
  {
   "cell_type": "markdown",
   "metadata": {},
   "source": [
    "Before diving into the Tweedie distribution, we need to understand the **exponential dispersion model (EDM)** ((Jorgensen, 1986, 1987a; Tweedie, 1947), of which the Tweedie is a special case. \n",
    "\n",
    "A probability distribution is an **EDM** if the density/mass function has the following form\n",
    "\n",
    "$$f(y) = c(y, \\phi)\\exp\\left\\{\\frac{y\\theta- a(\\theta)}{\\phi}\\right\\},$$\n",
    "where $\\theta$ is called the canonical parameter and $\\phi$ the dispersion parameter. \n",
    "\n",
    "It can be shown that,\n",
    "$$\\mathbb{E}(y):=\\mu = \\dot{a}(\\theta), \\quad \\mathrm{Var}(y)=\\phi\\ddot{a}(\\theta)= \\phi\\ddot{a}(\\dot{a}^{-1}(\\mu))=\\phi V(\\mu)$$\n",
    "\n",
    "where $\\dot{a}$ and $\\ddot{a}$ are the first and second derivative of $a$, respectively; $V(\\mu)$ is called the variance function. "
   ]
  },
  {
   "cell_type": "markdown",
   "metadata": {},
   "source": [
    "# Tweedie Distribution"
   ]
  },
  {
   "cell_type": "markdown",
   "metadata": {},
   "source": [
    "Now we formally introduce the Tweedie distribution. A Tweedie distribution is an EDM with \n",
    "$$V(\\mu) = \\mu^p, $$\n",
    "where $p\\in \\mathrm{R}$. The Tweedie behaves differently when $p$ takes different values. \n",
    "\n",
    "We consider 5 cases."
   ]
  },
  {
   "cell_type": "markdown",
   "metadata": {},
   "source": [
    "## Normal ($p=0$)"
   ]
  },
  {
   "cell_type": "markdown",
   "metadata": {},
   "source": [
    "When $p=0$, the Tweedie distribution becomes a normal distribution with the mean equal to $\\mu$ and variance as $\\phi$."
   ]
  },
  {
   "cell_type": "markdown",
   "metadata": {},
   "source": [
    "## Poisson ($p=1$)"
   ]
  },
  {
   "cell_type": "markdown",
   "metadata": {},
   "source": [
    "When $p=1$, the Tweedie distribution becomes a Poisson distribution if we set $\\phi=1$. The resulting Poison mean and variance equal to $\\mu$."
   ]
  },
  {
   "cell_type": "markdown",
   "metadata": {
    "tags": []
   },
   "source": [
    "## Gamma Distribution ($p=2$)"
   ]
  },
  {
   "cell_type": "markdown",
   "metadata": {},
   "source": [
    "## Inverse Gaussian Distribution ($p=3$)"
   ]
  },
  {
   "cell_type": "markdown",
   "metadata": {},
   "source": [
    "## Compound Poisson-Gamma ($1<p<2$)"
   ]
  },
  {
   "cell_type": "markdown",
   "metadata": {},
   "source": [
    "When $1<p<2$, the Tweedie distribution gives rise to a very interesting class known as the [Compound Poisson-Gamma Distribution](https://en.wikipedia.org/wiki/Compound_Poisson_distribution).\n",
    "\n",
    "A compound Poisson-Gamma distribution is the distribution of a sum of i.i.d gamma distribution with the number of gamma following a Poisson distribution.\n",
    "\n",
    "To illusrate the idea, let $N\\sim \\mathrm{Poisson}(\\lambda)$, and $X_i\\sim \\Gamma(\\alpha, \\beta)$, $i=1,2,\\dots,N$ be i.i.d gamma distributions. Then \n",
    "$$Y=\\sum_{i=1}^N X_i$$\n",
    "is a compound Poisson-Gamma distribution."
   ]
  },
  {
   "cell_type": "markdown",
   "metadata": {},
   "source": [
    "**Mean and Variance**"
   ]
  },
  {
   "cell_type": "markdown",
   "metadata": {},
   "source": [
    "To calculate the mean of $Y$, \n",
    "\n",
    "$$\n",
    "\\begin{array}{ll}\n",
    "\\mathbb{E}(Y) &=& \\mathbb{E}(\\mathbb{E}(Y|N)) &(\\text{Law of Total Expectation})\\\\\n",
    "              &=& \\mathbb{E}(N\\mathbb{E}(X_1))&(\\text{i.i.d assumption})\\\\\n",
    "              &=& \\mathbb{E}(N\\alpha/\\beta)  &(\\text{Mean of Gamma distribution})\\\\\n",
    "              &=&\\lambda\\frac{\\alpha}{\\beta}  & (\\text{Mean of Poisson distribution})\n",
    "\\end{array}\n",
    "$$"
   ]
  },
  {
   "cell_type": "markdown",
   "metadata": {},
   "source": [
    "To calculate the variance,\n",
    "\n",
    "$$\n",
    "\\begin{array}{ll}\n",
    "\\mathrm{Var}(Y) &=& \\mathrm{Var}(\\mathbb{E}(Y|N)) + \\mathbb{E}(\\mathrm{Var}(Y|N))& (\\text{Law of Total Variance})\\\\\n",
    "                &=& \\mathrm{Var}(N\\mathbb{E}(X_1)) + \\mathbb{E}(N\\mathrm{Var}(X_1)) &(\\text{i.i.d assumption})\\\\\n",
    "                &=& \\mathrm{Var}(N\\alpha/\\beta) + \\mathbb{E}(N\\alpha/\\beta^2) & (\\text{Mean and variance of Gamma distribution})\\\\\n",
    "                &=&  \\lambda\\alpha^2/\\beta^2 + \\lambda\\alpha/\\beta^2 &(\\text{Mean and variance of Poisson distribution})\\\\\n",
    "                &=& \\lambda \\frac{\\alpha(1+\\alpha)}{\\beta^2} & \\\\\n",
    "\\end{array}\n",
    "$$\n",
    "\n"
   ]
  },
  {
   "cell_type": "markdown",
   "metadata": {},
   "source": [
    "**Parameter Mapping**"
   ]
  },
  {
   "cell_type": "markdown",
   "metadata": {},
   "source": [
    "$$\n",
    "\\lambda =\\frac{\\mu^{2-p}}{(2-p)\\phi}, \\quad\\alpha=\\frac{2-p}{p-1},\\quad  \\beta= \\frac{\\mu^{1-p}}{(p-1)\\phi}\n",
    "$$\n"
   ]
  },
  {
   "cell_type": "code",
   "execution_count": null,
   "metadata": {},
   "outputs": [],
   "source": []
  },
  {
   "cell_type": "code",
   "execution_count": null,
   "metadata": {},
   "outputs": [],
   "source": []
  },
  {
   "cell_type": "code",
   "execution_count": null,
   "metadata": {},
   "outputs": [],
   "source": []
  },
  {
   "cell_type": "markdown",
   "metadata": {},
   "source": []
  },
  {
   "cell_type": "code",
   "execution_count": null,
   "metadata": {},
   "outputs": [],
   "source": []
  },
  {
   "cell_type": "markdown",
   "metadata": {},
   "source": []
  },
  {
   "cell_type": "markdown",
   "metadata": {},
   "source": []
  },
  {
   "cell_type": "code",
   "execution_count": null,
   "metadata": {},
   "outputs": [],
   "source": []
  },
  {
   "cell_type": "markdown",
   "metadata": {},
   "source": [
    "# Scale Invariance"
   ]
  },
  {
   "cell_type": "markdown",
   "metadata": {},
   "source": [
    "Let c be a positive constant, c > 0, and Y a random variable from a certain family\n",
    "of distributions; we say that this family is scale invariant if cY follows a distribution\n",
    "in the same family. This property is desirable if Y is measured in a monetary\n",
    "unit: if we convert the data from one currency to another, we want to stay within the\n",
    "same family of distributions—the result of a tariff analysis should not depend on the\n",
    "currency used.\n",
    "\n",
    "It can be shown that the only EDMs that are scale invariant are the so called\n",
    "Tweedie models, which are defined as having variance function\n",
    "v(μ) = μp (2.9)\n",
    "for some p. The proof can be found in Jörgensen [Jö97, Chap. 4], upon"
   ]
  },
  {
   "cell_type": "markdown",
   "metadata": {},
   "source": [
    "# Tweedie Deviance"
   ]
  },
  {
   "cell_type": "markdown",
   "metadata": {},
   "source": [
    "{% cite jorgensen1992exponential -A%}"
   ]
  },
  {
   "cell_type": "markdown",
   "metadata": {},
   "source": []
  },
  {
   "cell_type": "markdown",
   "metadata": {},
   "source": [
    "The EDM was proposed by #"
   ]
  },
  {
   "cell_type": "markdown",
   "metadata": {},
   "source": [
    "{% cite jorgensen1992exponential %}"
   ]
  },
  {
   "cell_type": "markdown",
   "metadata": {},
   "source": []
  },
  {
   "cell_type": "code",
   "execution_count": null,
   "metadata": {},
   "outputs": [],
   "source": []
  },
  {
   "cell_type": "code",
   "execution_count": null,
   "metadata": {},
   "outputs": [],
   "source": []
  },
  {
   "cell_type": "code",
   "execution_count": null,
   "metadata": {},
   "outputs": [],
   "source": []
  },
  {
   "cell_type": "markdown",
   "metadata": {},
   "source": [
    "# References\n",
    "{% bibliography --cited %}"
   ]
  },
  {
   "cell_type": "markdown",
   "metadata": {},
   "source": []
  }
 ],
 "metadata": {
  "interpreter": {
   "hash": "248aaaef2ce54d580c63d0621ea4262f68d22105863a800468921850ea527b06"
  },
  "kernelspec": {
   "display_name": "Python 3 (ipykernel)",
   "language": "python",
   "name": "python3"
  },
  "language_info": {
   "codemirror_mode": {
    "name": "ipython",
    "version": 3
   },
   "file_extension": ".py",
   "mimetype": "text/x-python",
   "name": "python",
   "nbconvert_exporter": "python",
   "pygments_lexer": "ipython3",
   "version": "3.9.7"
  },
  "toc": {
   "base_numbering": 1,
   "nav_menu": {},
   "number_sections": true,
   "sideBar": true,
   "skip_h1_title": false,
   "title_cell": "Table of Contents",
   "title_sidebar": "Contents",
   "toc_cell": false,
   "toc_position": {},
   "toc_section_display": true,
   "toc_window_display": false
  }
 },
 "nbformat": 4,
 "nbformat_minor": 4
}
