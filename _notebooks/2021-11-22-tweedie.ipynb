{
 "cells": [
  {
   "cell_type": "markdown",
   "metadata": {},
   "source": [
    "# Tweedie distribution\n",
    "> A short introduction to the Tweedie distribution\n",
    "\n",
    "- toc: true \n",
    "- badges: true\n",
    "- comments: false\n",
    "- categories: [insurance, distribution, glm, notebook]"
   ]
  },
  {
   "cell_type": "markdown",
   "metadata": {},
   "source": [
    "# Introduction"
   ]
  },
  {
   "cell_type": "markdown",
   "metadata": {},
   "source": [
    "The [Tweedie distribution](https://en.wikipedia.org/wiki/Tweedie_distribution) is a family of probability distributions that include\n",
    "- [Normal](https://en.wikipedia.org/wiki/Normal_distribution)\n",
    "- [Gamma](https://en.wikipedia.org/wiki/Gamma_distribution)\n",
    "- [Inverse Gaussian](https://en.wikipedia.org/wiki/Inverse_Gaussian_distribution)\n",
    "- [Poisson](https://en.wikipedia.org/wiki/Poisson_distribution)\n",
    "- [Compound Poisson-gamma](https://en.wikipedia.org/wiki/Compound_Poisson_distribution#Compound_Poisson_Gamma_distribution)\n",
    "\n",
    "The Tweedie distribution is wildly popular in insurance industry as a tool of modelling\n",
    "- claim frequency (count data), \n",
    "- claim severity (non-negative continuous data), and \n",
    "- pure premium (non-negative continous data with a zero mass).\n",
    "\n",
    "In this post, we give a brief introduction to the Tweedie distribution and its properties."
   ]
  },
  {
   "cell_type": "markdown",
   "metadata": {},
   "source": [
    "# Exponential Dispersion Models"
   ]
  },
  {
   "cell_type": "markdown",
   "metadata": {},
   "source": [
    "Before diving into the Tweedie distribution, we need to understand the **exponential dispersion model (EDM)** ((Jorgensen, 1986, 1987a; Tweedie, 1947), of which the Tweedie is a special case. \n",
    "\n",
    "A probability distribution is an **EDM** if the density/mass function has the following form\n",
    "\n",
    "$$f(y) = c(y, \\phi)\\exp\\left\\{\\frac{y\\theta- a(\\theta)}{\\phi}\\right\\},$$\n",
    "where $\\theta$ is called the canonical parameter and $\\phi$ the dispersion parameter. \n",
    "\n",
    "It can be shown that,\n",
    "$$\\mathbb{E}(y):=\\mu = \\dot{a}(\\theta), \\quad \\mathrm{Var}(y)=\\phi\\ddot{a}(\\theta)= \\phi\\ddot{a}(\\dot{a}^{-1}(\\mu))=\\phi V(\\mu)$$\n",
    "\n",
    "where $\\dot{a}$ and $\\ddot{a}$ are the first and second derivative of $a$, respectively; $V(\\mu)$ is called the variance function. "
   ]
  },
  {
   "cell_type": "markdown",
   "metadata": {},
   "source": [
    "# Tweedie Distribution"
   ]
  },
  {
   "cell_type": "markdown",
   "metadata": {},
   "source": [
    "Now we formally introduce the Tweedie distribution. \n",
    "A Tweedie distribution $Tw_p(\\mu, \\phi)$  is an EDM with \n",
    "\n",
    "$$V(\\mu) = \\mu^p, $$\n",
    "where $p\\in \\mathrm{R}$.\n",
    "\n",
    "\n",
    "The Tweedie behaves differently when $p$ takes different values. \n",
    "\n",
    "We consider 5 cases."
   ]
  },
  {
   "cell_type": "markdown",
   "metadata": {},
   "source": [
    "## Normal ($p=0$)\n",
    "\n",
    "When $p=0$, the Tweedie distribution becomes a normal distribution,\n",
    "\n",
    "$$Tw_0(\\mu, \\phi) \\to N(\\mu, \\sigma), $$ \n",
    "\n",
    "where $\\mu=\\mu, \\phi=\\sigma^2$."
   ]
  },
  {
   "cell_type": "code",
   "execution_count": 1,
   "metadata": {},
   "outputs": [],
   "source": [
    "# hide_input\n",
    "import numpy as np\n",
    "import seaborn as sns\n",
    "\n",
    "%config InlineBackend.figure_format = 'retina'\n",
    "%load_ext lab_black"
   ]
  },
  {
   "cell_type": "code",
   "execution_count": 2,
   "metadata": {},
   "outputs": [
    {
     "ename": "NameError",
     "evalue": "name 'plt' is not defined",
     "output_type": "error",
     "traceback": [
      "\u001b[0;31m---------------------------------------------------------------------------\u001b[0m",
      "\u001b[0;31mNameError\u001b[0m                                 Traceback (most recent call last)",
      "\u001b[0;32m/var/folders/1j/_fmrkh5s2jg1r81frgc5w7mm0000gq/T/ipykernel_8852/1830000738.py\u001b[0m in \u001b[0;36m<module>\u001b[0;34m\u001b[0m\n\u001b[1;32m      8\u001b[0m \u001b[0;34m\u001b[0m\u001b[0m\n\u001b[1;32m      9\u001b[0m \u001b[0;34m\u001b[0m\u001b[0m\n\u001b[0;32m---> 10\u001b[0;31m \u001b[0mplt\u001b[0m\u001b[0;34m.\u001b[0m\u001b[0mplot\u001b[0m\u001b[0;34m(\u001b[0m\u001b[0mx\u001b[0m\u001b[0;34m,\u001b[0m \u001b[0mnorm_dist\u001b[0m\u001b[0;34m.\u001b[0m\u001b[0mpdf\u001b[0m\u001b[0;34m(\u001b[0m\u001b[0mx\u001b[0m\u001b[0;34m)\u001b[0m\u001b[0;34m)\u001b[0m\u001b[0;34m\u001b[0m\u001b[0;34m\u001b[0m\u001b[0m\n\u001b[0m\u001b[1;32m     11\u001b[0m \u001b[0mplt\u001b[0m\u001b[0;34m.\u001b[0m\u001b[0mtitle\u001b[0m\u001b[0;34m(\u001b[0m\u001b[0;34m\"Normal Distribution Tw_0(mu=2, phi=1)\"\u001b[0m\u001b[0;34m)\u001b[0m\u001b[0;34m\u001b[0m\u001b[0;34m\u001b[0m\u001b[0m\n\u001b[1;32m     12\u001b[0m \u001b[0mplt\u001b[0m\u001b[0;34m.\u001b[0m\u001b[0mshow\u001b[0m\u001b[0;34m(\u001b[0m\u001b[0;34m)\u001b[0m\u001b[0;34m\u001b[0m\u001b[0;34m\u001b[0m\u001b[0m\n",
      "\u001b[0;31mNameError\u001b[0m: name 'plt' is not defined"
     ]
    }
   ],
   "source": [
    "from scipy.stats import norm\n",
    "\n",
    "mu = 2\n",
    "sigma = 1\n",
    "\n",
    "norm_dist = norm(loc=mu, scale=sigma)\n",
    "x = np.linspace(norm_dist.ppf(0.01), norm_dist.ppf(0.99), 100)\n",
    "\n",
    "\n",
    "plt.plot(x, norm_dist.pdf(x))\n",
    "plt.title(\"Normal Distribution Tw_0(mu=2, phi=1)\")\n",
    "plt.show()"
   ]
  },
  {
   "cell_type": "markdown",
   "metadata": {},
   "source": [
    "## Poisson ($p=1$)"
   ]
  },
  {
   "cell_type": "markdown",
   "metadata": {},
   "source": [
    "When $p=1$, the Tweedie distribution becomes a Poisson distribution,\n",
    "\n",
    "$$Tw_1(\\mu, \\phi) \\to \\mathrm{Poisson}(\\lambda), $$ \n",
    "\n",
    "where $\\mu=\\lambda, \\phi=1$."
   ]
  },
  {
   "cell_type": "code",
   "execution_count": null,
   "metadata": {},
   "outputs": [],
   "source": [
    "from scipy.stats import poisson\n",
    "\n",
    "mu = 2\n",
    "\n",
    "poisson_dist = poisson(mu=mu)\n",
    "x = np.arange(poisson_dist.ppf(0.01), poisson_dist.ppf(0.99))\n",
    "\n",
    "plt.plot(x, poisson_dist.pmf(x), marker=\"o\")\n",
    "plt.title(\"Poisson Distribution Tw_1(mu=2, phi=1)\")\n",
    "plt.show()"
   ]
  },
  {
   "cell_type": "markdown",
   "metadata": {
    "tags": []
   },
   "source": [
    "## Gamma Distribution ($p=2$)"
   ]
  },
  {
   "cell_type": "markdown",
   "metadata": {},
   "source": [
    "When $p=1$, the Tweedie distribution becomes a Gamma distribution,\n",
    "\n",
    "$$Tw_2(\\mu, \\phi) \\to \\mathrm{Gamma}(\\alpha, \\beta), $$ \n",
    "\n",
    "where $\\alpha = 1/\\phi, \\beta = 1/(\\phi\\mu)$"
   ]
  },
  {
   "cell_type": "code",
   "execution_count": null,
   "metadata": {},
   "outputs": [],
   "source": [
    "from scipy.stats import gamma\n",
    "\n",
    "mu = 2\n",
    "phi = 1\n",
    "\n",
    "gamma_dist = gamma(a=1 / phi, scale=mu * phi)\n",
    "x = np.linspace(gamma_dist.ppf(0.01), gamma_dist.ppf(0.99), 100)\n",
    "\n",
    "plt.plot(x, gamma_dist.pdf(x))\n",
    "plt.title(\"Gamma Distribution Tw_2(mu=2, phi=1)\")\n",
    "plt.show()"
   ]
  },
  {
   "cell_type": "markdown",
   "metadata": {},
   "source": [
    "## Inverse Gaussian Distribution ($p=3$)"
   ]
  },
  {
   "cell_type": "markdown",
   "metadata": {},
   "source": [
    "When $p=3$, the Tweedie distribution becomes a Inverse Gaussian Distribution,\n",
    "\n",
    "$$Tw_3(\\mu, \\phi) \\to \\mathrm{IG}(\\mu, \\lambda), $$ \n",
    "\n",
    "where $\\mu=\\mu, \\lambda = 1/\\phi$."
   ]
  },
  {
   "cell_type": "code",
   "execution_count": null,
   "metadata": {},
   "outputs": [],
   "source": [
    "from scipy.stats import invgauss\n",
    "\n",
    "mu = 2\n",
    "phi = 1\n",
    "\n",
    "invgauss_dist = invgauss(mu=mu, scale=1 / phi)\n",
    "x = np.linspace(invgauss_dist.ppf(0.01), invgauss_dist.ppf(0.8), 100)\n",
    "\n",
    "plt.plot(x, invgauss_dist.pdf(x))\n",
    "plt.title(f\"Inverse Gaussian Distribution Tw_3(mu={mu}, phi={phi})\")\n",
    "plt.show()"
   ]
  },
  {
   "cell_type": "markdown",
   "metadata": {},
   "source": [
    "## Compound Poisson-Gamma ($1<p<2$)"
   ]
  },
  {
   "cell_type": "markdown",
   "metadata": {},
   "source": [
    "When $1<p<2$, the Tweedie distribution gives rise to the most important distribution in the class, known as the\n",
    "[Compound Poisson-Gamma Distribution](https://en.wikipedia.org/wiki/Compound_Poisson_distribution).\n",
    "\n",
    "A compound Poisson-Gamma distribution is the distribution of a sum of i.i.d gamma distribution with the number of gamma following a Poisson distribution.\n",
    "\n",
    "To illusrate the idea, let $N\\sim \\mathrm{Poisson}(\\lambda)$, and $X_i\\sim \\Gamma(\\alpha, \\beta)$, $i=1,2,\\dots,N$ be i.i.d gamma distributions. Then \n",
    "$$Y=\\sum_{i=1}^N X_i$$\n",
    "is a compound Poisson-Gamma distribution."
   ]
  },
  {
   "cell_type": "markdown",
   "metadata": {},
   "source": [
    "### Mean and Variance"
   ]
  },
  {
   "cell_type": "markdown",
   "metadata": {},
   "source": [
    "To calculate the mean of $Y$, \n",
    "\n",
    "$$\n",
    "\\begin{array}{ll}\n",
    "\\mathbb{E}(Y) &=& \\mathbb{E}(\\mathbb{E}(Y|N)) &(\\text{Law of Total Expectation})\\\\\n",
    "              &=& \\mathbb{E}(N\\mathbb{E}(X_1))&(\\text{i.i.d assumption})\\\\\n",
    "              &=& \\mathbb{E}(N\\alpha/\\beta)  &(\\text{Mean of Gamma distribution})\\\\\n",
    "              &=&\\lambda\\frac{\\alpha}{\\beta}  & (\\text{Mean of Poisson distribution})\n",
    "\\end{array}\n",
    "$$"
   ]
  },
  {
   "cell_type": "markdown",
   "metadata": {},
   "source": [
    "To calculate the variance,\n",
    "\n",
    "$$\n",
    "\\begin{array}{ll}\n",
    "\\mathrm{Var}(Y) &=& \\mathrm{Var}(\\mathbb{E}(Y|N)) + \\mathbb{E}(\\mathrm{Var}(Y|N))& (\\text{Law of Total Variance})\\\\\n",
    "                &=& \\mathrm{Var}(N\\mathbb{E}(X_1)) + \\mathbb{E}(N\\mathrm{Var}(X_1)) &(\\text{i.i.d assumption})\\\\\n",
    "                &=& \\mathrm{Var}(N\\alpha/\\beta) + \\mathbb{E}(N\\alpha/\\beta^2) & (\\text{Mean and variance of Gamma distribution})\\\\\n",
    "                &=&  \\lambda\\alpha^2/\\beta^2 + \\lambda\\alpha/\\beta^2 &(\\text{Mean and variance of Poisson distribution})\\\\\n",
    "                &=& \\lambda \\frac{\\alpha(1+\\alpha)}{\\beta^2} & \\\\\n",
    "\\end{array}\n",
    "$$\n",
    "\n"
   ]
  },
  {
   "cell_type": "markdown",
   "metadata": {},
   "source": [
    "### Parameter Mapping"
   ]
  },
  {
   "cell_type": "markdown",
   "metadata": {},
   "source": [
    "$$\n",
    "\\lambda =\\frac{\\mu^{2-p}}{(2-p)\\phi}, \\quad\\alpha=\\frac{2-p}{p-1},\\quad  \\beta= \\frac{\\mu^{1-p}}{(p-1)\\phi}\n",
    "$$\n"
   ]
  },
  {
   "cell_type": "code",
   "execution_count": null,
   "metadata": {},
   "outputs": [],
   "source": [
    "from scipy.stats import poisson, gamma\n",
    "\n",
    "mu = 5\n",
    "phi = 3\n",
    "p = 1.5\n",
    "\n",
    "n_sim = 2000\n",
    "\n",
    "lam = mu ** (2 - p) / ((2 - p) * phi)\n",
    "alpha = (2 - p) / (p - 1)\n",
    "beta = mu ** (1 - p) / ((p - 1) * phi)\n",
    "scale = 1 / beta  # as scipy.stats scale is 1/beta\n",
    "\n",
    "rvs_poisson = poisson(lam).rvs(n_sim)\n",
    "\n",
    "rvs_gamma = [gamma(a=alpha, scale=scale).rvs(rp).sum() for rp in rvs_poisson]\n",
    "\n",
    "plt.hist(rvs_gamma, bins=40)\n",
    "plt.title(f\"Compound Poisson-Gamma Tw_{p}(mu={mu}, phi={phi})\")\n",
    "plt.show()"
   ]
  },
  {
   "cell_type": "markdown",
   "metadata": {},
   "source": [
    "# Scale Invariance"
   ]
  },
  {
   "cell_type": "markdown",
   "metadata": {},
   "source": [
    "The Tweedie distribution is [scale invariant](https://en.wikipedia.org/wiki/Scale_invariance), meaning $cY$ follows the same distribution as $Y$ for a positive constant $c$.\n",
    "\n",
    "To be specific,\n",
    "\n",
    "$$cTw_p(\\mu, \\phi) = Tw_p(c\\mu, c^{2-p}\\phi)$$\n",
    "\n",
    "As a matter, the Tweedie distribution is the only scale invariant family within EDMs {% cite jorgensen1997theory %}."
   ]
  },
  {
   "cell_type": "markdown",
   "metadata": {},
   "source": [
    "# Tweedie Deviance"
   ]
  },
  {
   "cell_type": "markdown",
   "metadata": {},
   "source": [
    "Finally, we look at Tweedie deviance, a goodness-of-fit measure for the Tweedie family.\n",
    "\n",
    "The deviance is defined as follows\n",
    "\n",
    "$$\n",
    "\\begin{array}{ll}\n",
    "\\Delta &\\equiv& 2(\\check{l} - \\hat{l}) \\\\\n",
    "        &=& 2(\\ln(p(y|\\check{\\theta}))-\\ln(p(y|\\hat{\\theta})))\\\\\n",
    "        &=&\\sum_{i=1}^nd(y_i, \\hat{\\mu})\n",
    "\\end{array}\n",
    "$$\n",
    "\n",
    "where $\\check{l}$ is the loglikehood of the [saturated model](https://stats.stackexchange.com/questions/283/what-is-a-saturated-model), $\\hat{l}$ is the loglikehood of a fitted model and $d(\\cdot, \\cdot)$ is a unit deviance function.\n",
    "\n",
    "For different $p$, the unit deviance is as follows,\n",
    "$$\n",
    "d(y,\\mu)=\\left\\{\\begin{array}{l}\n",
    "    (y-\\mu)^2 &p=0\\\\\n",
    "    2(y\\ln(y/u)+\\mu-y) &p=1\\\\\n",
    "    2(\\ln(\\mu/y) + y/ \\mu-1) & p=2\\\\\n",
    "    2\\left(\\frac{\\max(y, 0)^{2-p}}{(1-p)(2-p)}-\\frac{y\\mu^{1-p}}{1-p} + \\frac{\\mu^{2-p}}{2-p}\\right) & \\mathrm{else}\n",
    "    \\end{array}\n",
    "    \\right.\n",
    "$$\n",
    "\n"
   ]
  },
  {
   "cell_type": "markdown",
   "metadata": {},
   "source": [
    "A complete list deviance beyond Tweedie can be found in Dunn and Smyth {% cite dunn2018generalized -A -l 221 %}"
   ]
  },
  {
   "cell_type": "markdown",
   "metadata": {},
   "source": [
    "# References\n",
    "{% bibliography --cited %}"
   ]
  }
 ],
 "metadata": {
  "interpreter": {
   "hash": "248aaaef2ce54d580c63d0621ea4262f68d22105863a800468921850ea527b06"
  },
  "kernelspec": {
   "display_name": "Python 3 (ipykernel)",
   "language": "python",
   "name": "python3"
  },
  "language_info": {
   "codemirror_mode": {
    "name": "ipython",
    "version": 3
   },
   "file_extension": ".py",
   "mimetype": "text/x-python",
   "name": "python",
   "nbconvert_exporter": "python",
   "pygments_lexer": "ipython3",
   "version": "3.9.7"
  },
  "toc": {
   "base_numbering": 1,
   "nav_menu": {},
   "number_sections": true,
   "sideBar": true,
   "skip_h1_title": false,
   "title_cell": "Table of Contents",
   "title_sidebar": "Contents",
   "toc_cell": false,
   "toc_position": {},
   "toc_section_display": true,
   "toc_window_display": false
  }
 },
 "nbformat": 4,
 "nbformat_minor": 4
}
